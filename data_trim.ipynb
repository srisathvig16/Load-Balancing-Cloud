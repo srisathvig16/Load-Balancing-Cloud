{
 "cells": [
  {
   "cell_type": "code",
   "execution_count": 1,
   "metadata": {},
   "outputs": [],
   "source": [
    "import pandas as pd # type: ignore"
   ]
  },
  {
   "cell_type": "code",
   "execution_count": 2,
   "metadata": {},
   "outputs": [],
   "source": [
    "data = pd.read_csv(\"database.csv\")"
   ]
  },
  {
   "cell_type": "code",
   "execution_count": 3,
   "metadata": {},
   "outputs": [],
   "source": [
    "df = pd.DataFrame(data)"
   ]
  },
  {
   "cell_type": "code",
   "execution_count": 4,
   "metadata": {},
   "outputs": [
    {
     "data": {
      "text/html": [
       "<div>\n",
       "<style scoped>\n",
       "    .dataframe tbody tr th:only-of-type {\n",
       "        vertical-align: middle;\n",
       "    }\n",
       "\n",
       "    .dataframe tbody tr th {\n",
       "        vertical-align: top;\n",
       "    }\n",
       "\n",
       "    .dataframe thead th {\n",
       "        text-align: right;\n",
       "    }\n",
       "</style>\n",
       "<table border=\"1\" class=\"dataframe\">\n",
       "  <thead>\n",
       "    <tr style=\"text-align: right;\">\n",
       "      <th></th>\n",
       "      <th>Flow.ID</th>\n",
       "      <th>Source.IP</th>\n",
       "      <th>Source.Port</th>\n",
       "      <th>Destination.IP</th>\n",
       "      <th>Destination.Port</th>\n",
       "      <th>Protocol</th>\n",
       "      <th>Timestamp</th>\n",
       "      <th>Flow.Duration</th>\n",
       "      <th>Total.Fwd.Packets</th>\n",
       "      <th>Total.Backward.Packets</th>\n",
       "      <th>...</th>\n",
       "      <th>Active.Std</th>\n",
       "      <th>Active.Max</th>\n",
       "      <th>Active.Min</th>\n",
       "      <th>Idle.Mean</th>\n",
       "      <th>Idle.Std</th>\n",
       "      <th>Idle.Max</th>\n",
       "      <th>Idle.Min</th>\n",
       "      <th>Label</th>\n",
       "      <th>L7Protocol</th>\n",
       "      <th>ProtocolName</th>\n",
       "    </tr>\n",
       "  </thead>\n",
       "  <tbody>\n",
       "    <tr>\n",
       "      <th>0</th>\n",
       "      <td>172.19.1.46-10.200.7.7-52422-3128-6</td>\n",
       "      <td>172.19.1.46</td>\n",
       "      <td>52422</td>\n",
       "      <td>10.200.7.7</td>\n",
       "      <td>3128</td>\n",
       "      <td>6</td>\n",
       "      <td>26/04/201711:11:17</td>\n",
       "      <td>45523</td>\n",
       "      <td>22</td>\n",
       "      <td>55</td>\n",
       "      <td>...</td>\n",
       "      <td>0.0</td>\n",
       "      <td>0.0</td>\n",
       "      <td>0.0</td>\n",
       "      <td>0.0</td>\n",
       "      <td>0.0</td>\n",
       "      <td>0.0</td>\n",
       "      <td>0.0</td>\n",
       "      <td>BENIGN</td>\n",
       "      <td>131</td>\n",
       "      <td>HTTP_PROXY</td>\n",
       "    </tr>\n",
       "    <tr>\n",
       "      <th>1</th>\n",
       "      <td>172.19.1.46-10.200.7.7-52422-3128-6</td>\n",
       "      <td>10.200.7.7</td>\n",
       "      <td>3128</td>\n",
       "      <td>172.19.1.46</td>\n",
       "      <td>52422</td>\n",
       "      <td>6</td>\n",
       "      <td>26/04/201711:11:17</td>\n",
       "      <td>1</td>\n",
       "      <td>2</td>\n",
       "      <td>0</td>\n",
       "      <td>...</td>\n",
       "      <td>0.0</td>\n",
       "      <td>0.0</td>\n",
       "      <td>0.0</td>\n",
       "      <td>0.0</td>\n",
       "      <td>0.0</td>\n",
       "      <td>0.0</td>\n",
       "      <td>0.0</td>\n",
       "      <td>BENIGN</td>\n",
       "      <td>131</td>\n",
       "      <td>HTTP_PROXY</td>\n",
       "    </tr>\n",
       "    <tr>\n",
       "      <th>2</th>\n",
       "      <td>10.200.7.217-50.31.185.39-38848-80-6</td>\n",
       "      <td>50.31.185.39</td>\n",
       "      <td>80</td>\n",
       "      <td>10.200.7.217</td>\n",
       "      <td>38848</td>\n",
       "      <td>6</td>\n",
       "      <td>26/04/201711:11:17</td>\n",
       "      <td>1</td>\n",
       "      <td>3</td>\n",
       "      <td>0</td>\n",
       "      <td>...</td>\n",
       "      <td>0.0</td>\n",
       "      <td>0.0</td>\n",
       "      <td>0.0</td>\n",
       "      <td>0.0</td>\n",
       "      <td>0.0</td>\n",
       "      <td>0.0</td>\n",
       "      <td>0.0</td>\n",
       "      <td>BENIGN</td>\n",
       "      <td>7</td>\n",
       "      <td>HTTP</td>\n",
       "    </tr>\n",
       "    <tr>\n",
       "      <th>3</th>\n",
       "      <td>10.200.7.217-50.31.185.39-38848-80-6</td>\n",
       "      <td>50.31.185.39</td>\n",
       "      <td>80</td>\n",
       "      <td>10.200.7.217</td>\n",
       "      <td>38848</td>\n",
       "      <td>6</td>\n",
       "      <td>26/04/201711:11:17</td>\n",
       "      <td>217</td>\n",
       "      <td>1</td>\n",
       "      <td>3</td>\n",
       "      <td>...</td>\n",
       "      <td>0.0</td>\n",
       "      <td>0.0</td>\n",
       "      <td>0.0</td>\n",
       "      <td>0.0</td>\n",
       "      <td>0.0</td>\n",
       "      <td>0.0</td>\n",
       "      <td>0.0</td>\n",
       "      <td>BENIGN</td>\n",
       "      <td>7</td>\n",
       "      <td>HTTP</td>\n",
       "    </tr>\n",
       "    <tr>\n",
       "      <th>4</th>\n",
       "      <td>192.168.72.43-10.200.7.7-55961-3128-6</td>\n",
       "      <td>192.168.72.43</td>\n",
       "      <td>55961</td>\n",
       "      <td>10.200.7.7</td>\n",
       "      <td>3128</td>\n",
       "      <td>6</td>\n",
       "      <td>26/04/201711:11:17</td>\n",
       "      <td>78068</td>\n",
       "      <td>5</td>\n",
       "      <td>0</td>\n",
       "      <td>...</td>\n",
       "      <td>0.0</td>\n",
       "      <td>0.0</td>\n",
       "      <td>0.0</td>\n",
       "      <td>0.0</td>\n",
       "      <td>0.0</td>\n",
       "      <td>0.0</td>\n",
       "      <td>0.0</td>\n",
       "      <td>BENIGN</td>\n",
       "      <td>131</td>\n",
       "      <td>HTTP_PROXY</td>\n",
       "    </tr>\n",
       "  </tbody>\n",
       "</table>\n",
       "<p>5 rows × 87 columns</p>\n",
       "</div>"
      ],
      "text/plain": [
       "                                 Flow.ID      Source.IP  Source.Port  \\\n",
       "0    172.19.1.46-10.200.7.7-52422-3128-6    172.19.1.46        52422   \n",
       "1    172.19.1.46-10.200.7.7-52422-3128-6     10.200.7.7         3128   \n",
       "2   10.200.7.217-50.31.185.39-38848-80-6   50.31.185.39           80   \n",
       "3   10.200.7.217-50.31.185.39-38848-80-6   50.31.185.39           80   \n",
       "4  192.168.72.43-10.200.7.7-55961-3128-6  192.168.72.43        55961   \n",
       "\n",
       "  Destination.IP  Destination.Port  Protocol           Timestamp  \\\n",
       "0     10.200.7.7              3128         6  26/04/201711:11:17   \n",
       "1    172.19.1.46             52422         6  26/04/201711:11:17   \n",
       "2   10.200.7.217             38848         6  26/04/201711:11:17   \n",
       "3   10.200.7.217             38848         6  26/04/201711:11:17   \n",
       "4     10.200.7.7              3128         6  26/04/201711:11:17   \n",
       "\n",
       "   Flow.Duration  Total.Fwd.Packets  Total.Backward.Packets  ...  Active.Std  \\\n",
       "0          45523                 22                      55  ...         0.0   \n",
       "1              1                  2                       0  ...         0.0   \n",
       "2              1                  3                       0  ...         0.0   \n",
       "3            217                  1                       3  ...         0.0   \n",
       "4          78068                  5                       0  ...         0.0   \n",
       "\n",
       "   Active.Max  Active.Min  Idle.Mean  Idle.Std  Idle.Max  Idle.Min   Label  \\\n",
       "0         0.0         0.0        0.0       0.0       0.0       0.0  BENIGN   \n",
       "1         0.0         0.0        0.0       0.0       0.0       0.0  BENIGN   \n",
       "2         0.0         0.0        0.0       0.0       0.0       0.0  BENIGN   \n",
       "3         0.0         0.0        0.0       0.0       0.0       0.0  BENIGN   \n",
       "4         0.0         0.0        0.0       0.0       0.0       0.0  BENIGN   \n",
       "\n",
       "   L7Protocol  ProtocolName  \n",
       "0         131    HTTP_PROXY  \n",
       "1         131    HTTP_PROXY  \n",
       "2           7          HTTP  \n",
       "3           7          HTTP  \n",
       "4         131    HTTP_PROXY  \n",
       "\n",
       "[5 rows x 87 columns]"
      ]
     },
     "execution_count": 4,
     "metadata": {},
     "output_type": "execute_result"
    }
   ],
   "source": [
    "df.head()"
   ]
  },
  {
   "cell_type": "code",
   "execution_count": 5,
   "metadata": {},
   "outputs": [
    {
     "data": {
      "text/plain": [
       "<bound method DataFrame.info of                                        Flow.ID      Source.IP  Source.Port  \\\n",
       "0          172.19.1.46-10.200.7.7-52422-3128-6    172.19.1.46        52422   \n",
       "1          172.19.1.46-10.200.7.7-52422-3128-6     10.200.7.7         3128   \n",
       "2         10.200.7.217-50.31.185.39-38848-80-6   50.31.185.39           80   \n",
       "3         10.200.7.217-50.31.185.39-38848-80-6   50.31.185.39           80   \n",
       "4        192.168.72.43-10.200.7.7-55961-3128-6  192.168.72.43        55961   \n",
       "...                                        ...            ...          ...   \n",
       "3577291  10.200.7.199-98.138.79.73-42135-443-6   98.138.79.73          443   \n",
       "3577292  10.200.7.217-98.138.79.73-51546-443-6   98.138.79.73          443   \n",
       "3577293  10.200.7.218-98.138.79.73-44366-443-6   98.138.79.73          443   \n",
       "3577294  10.200.7.195-98.138.79.73-52341-443-6   98.138.79.73          443   \n",
       "3577295  10.200.7.196-98.138.79.73-34188-443-6   98.138.79.73          443   \n",
       "\n",
       "        Destination.IP  Destination.Port  Protocol           Timestamp  \\\n",
       "0           10.200.7.7              3128         6  26/04/201711:11:17   \n",
       "1          172.19.1.46             52422         6  26/04/201711:11:17   \n",
       "2         10.200.7.217             38848         6  26/04/201711:11:17   \n",
       "3         10.200.7.217             38848         6  26/04/201711:11:17   \n",
       "4           10.200.7.7              3128         6  26/04/201711:11:17   \n",
       "...                ...               ...       ...                 ...   \n",
       "3577291   10.200.7.199             42135         6  15/05/201705:43:40   \n",
       "3577292   10.200.7.217             51546         6  15/05/201705:46:10   \n",
       "3577293   10.200.7.218             44366         6  15/05/201705:45:39   \n",
       "3577294   10.200.7.195             52341         6  15/05/201705:45:59   \n",
       "3577295   10.200.7.196             34188         6  15/05/201705:46:05   \n",
       "\n",
       "         Flow.Duration  Total.Fwd.Packets  Total.Backward.Packets  ...  \\\n",
       "0                45523                 22                      55  ...   \n",
       "1                    1                  2                       0  ...   \n",
       "2                    1                  3                       0  ...   \n",
       "3                  217                  1                       3  ...   \n",
       "4                78068                  5                       0  ...   \n",
       "...                ...                ...                     ...  ...   \n",
       "3577291        2290821                  5                       4  ...   \n",
       "3577292             24                  5                       0  ...   \n",
       "3577293        2591653                  6                       5  ...   \n",
       "3577294        2622421                  4                       3  ...   \n",
       "3577295        2009138                  3                       2  ...   \n",
       "\n",
       "         Active.Std  Active.Max  Active.Min  Idle.Mean  Idle.Std  Idle.Max  \\\n",
       "0               0.0         0.0         0.0        0.0       0.0       0.0   \n",
       "1               0.0         0.0         0.0        0.0       0.0       0.0   \n",
       "2               0.0         0.0         0.0        0.0       0.0       0.0   \n",
       "3               0.0         0.0         0.0        0.0       0.0       0.0   \n",
       "4               0.0         0.0         0.0        0.0       0.0       0.0   \n",
       "...             ...         ...         ...        ...       ...       ...   \n",
       "3577291         0.0         0.0         0.0        0.0       0.0       0.0   \n",
       "3577292         0.0         0.0         0.0        0.0       0.0       0.0   \n",
       "3577293         0.0         0.0         0.0        0.0       0.0       0.0   \n",
       "3577294         0.0         0.0         0.0        0.0       0.0       0.0   \n",
       "3577295         0.0         0.0         0.0        0.0       0.0       0.0   \n",
       "\n",
       "         Idle.Min   Label  L7Protocol  ProtocolName  \n",
       "0             0.0  BENIGN         131    HTTP_PROXY  \n",
       "1             0.0  BENIGN         131    HTTP_PROXY  \n",
       "2             0.0  BENIGN           7          HTTP  \n",
       "3             0.0  BENIGN           7          HTTP  \n",
       "4             0.0  BENIGN         131    HTTP_PROXY  \n",
       "...           ...     ...         ...           ...  \n",
       "3577291       0.0  BENIGN          91           SSL  \n",
       "3577292       0.0  BENIGN          91           SSL  \n",
       "3577293       0.0  BENIGN          91           SSL  \n",
       "3577294       0.0  BENIGN          91           SSL  \n",
       "3577295       0.0  BENIGN          91           SSL  \n",
       "\n",
       "[3577296 rows x 87 columns]>"
      ]
     },
     "execution_count": 5,
     "metadata": {},
     "output_type": "execute_result"
    }
   ],
   "source": [
    "df.info"
   ]
  },
  {
   "cell_type": "code",
   "execution_count": 6,
   "metadata": {},
   "outputs": [
    {
     "data": {
      "text/plain": [
       "311224752"
      ]
     },
     "execution_count": 6,
     "metadata": {},
     "output_type": "execute_result"
    }
   ],
   "source": [
    "df.size"
   ]
  },
  {
   "cell_type": "code",
   "execution_count": 7,
   "metadata": {},
   "outputs": [],
   "source": [
    "df = df.sample(n = 10000, random_state = 1)"
   ]
  },
  {
   "cell_type": "code",
   "execution_count": 8,
   "metadata": {},
   "outputs": [
    {
     "data": {
      "text/plain": [
       "870000"
      ]
     },
     "execution_count": 8,
     "metadata": {},
     "output_type": "execute_result"
    }
   ],
   "source": [
    "df.size"
   ]
  },
  {
   "cell_type": "code",
   "execution_count": 9,
   "metadata": {},
   "outputs": [],
   "source": [
    "df = df.sample(n = 10000, random_state=1)"
   ]
  },
  {
   "cell_type": "code",
   "execution_count": 10,
   "metadata": {},
   "outputs": [
    {
     "data": {
      "text/plain": [
       "<bound method DataFrame.info of                                         Flow.ID       Source.IP  Source.Port  \\\n",
       "2421228    179.1.4.237-10.200.7.196-443-46506-6    10.200.7.196        46506   \n",
       "1272684    179.1.4.210-10.200.7.196-443-60137-6    10.200.7.196        60137   \n",
       "790012   192.168.180.16-10.200.7.8-30324-3128-6      10.200.7.8         3128   \n",
       "2246520  192.168.10.135-10.200.7.7-50093-3128-6  192.168.10.135        50093   \n",
       "442329    192.168.40.36-10.200.7.9-49192-3128-6   192.168.40.36        49192   \n",
       "...                                         ...             ...          ...   \n",
       "1977863   192.168.10.85-10.200.7.8-58097-3128-6   192.168.10.85        58097   \n",
       "2266685    192.168.29.5-10.200.7.5-54371-3128-6    192.168.29.5        54371   \n",
       "2624752   192.168.40.21-10.200.7.8-50873-3128-6      10.200.7.8         3128   \n",
       "166243     179.1.4.217-10.200.7.199-443-53963-6    10.200.7.199        53963   \n",
       "149907    216.33.197.73-10.200.7.195-80-41332-6    10.200.7.195        41332   \n",
       "\n",
       "         Destination.IP  Destination.Port  Protocol           Timestamp  \\\n",
       "2421228     179.1.4.237               443         6  11/05/201710:01:33   \n",
       "1272684     179.1.4.210               443         6  27/04/201704:59:17   \n",
       "790012   192.168.180.16             30324         6  27/04/201709:53:33   \n",
       "2246520      10.200.7.7              3128         6  09/05/201711:32:16   \n",
       "442329       10.200.7.9              3128         6  27/04/201707:57:56   \n",
       "...                 ...               ...       ...                 ...   \n",
       "1977863      10.200.7.8              3128         6  09/05/201709:08:33   \n",
       "2266685      10.200.7.5              3128         6  09/05/201711:30:39   \n",
       "2624752   192.168.40.21             50873         6  11/05/201710:51:29   \n",
       "166243      179.1.4.217               443         6  26/04/201703:12:22   \n",
       "149907    216.33.197.73                80         6  26/04/201703:11:55   \n",
       "\n",
       "         Flow.Duration  Total.Fwd.Packets  Total.Backward.Packets  ...  \\\n",
       "2421228       35196160                 58                      60  ...   \n",
       "1272684         145054                 12                       9  ...   \n",
       "790012          112805                  1                       2  ...   \n",
       "2246520        9114881                 17                      40  ...   \n",
       "442329          753606                 11                       9  ...   \n",
       "...                ...                ...                     ...  ...   \n",
       "1977863       14342556                 25                      29  ...   \n",
       "2266685         485815                  4                       6  ...   \n",
       "2624752      102320675                 17                      18  ...   \n",
       "166243         7540459                 30                      30  ...   \n",
       "149907       109645880                 58                      86  ...   \n",
       "\n",
       "           Active.Std  Active.Max  Active.Min   Idle.Mean      Idle.Std  \\\n",
       "2421228  1.249460e+06   2727286.0    960283.0  14551732.5  1.307880e+07   \n",
       "1272684  0.000000e+00         0.0         0.0         0.0  0.000000e+00   \n",
       "790012   0.000000e+00         0.0         0.0         0.0  0.000000e+00   \n",
       "2246520  0.000000e+00         0.0         0.0         0.0  0.000000e+00   \n",
       "442329   0.000000e+00         0.0         0.0         0.0  0.000000e+00   \n",
       "...               ...         ...         ...         ...           ...   \n",
       "1977863  0.000000e+00         0.0         0.0         0.0  0.000000e+00   \n",
       "2266685  0.000000e+00         0.0         0.0         0.0  0.000000e+00   \n",
       "2624752  5.716905e+05   1143561.0        52.0  25294057.5  1.116479e+06   \n",
       "166243   0.000000e+00         0.0         0.0         0.0  0.000000e+00   \n",
       "149907   1.921927e+06   4382761.0    462367.0  25773086.0  1.209316e+07   \n",
       "\n",
       "           Idle.Max    Idle.Min   Label  L7Protocol  ProtocolName  \n",
       "2421228  23799843.0   5303622.0  BENIGN         126        GOOGLE  \n",
       "1272684         0.0         0.0  BENIGN         126        GOOGLE  \n",
       "790012          0.0         0.0  BENIGN           7          HTTP  \n",
       "2246520         0.0         0.0  BENIGN         130  HTTP_CONNECT  \n",
       "442329          0.0         0.0  BENIGN         140         APPLE  \n",
       "...             ...         ...     ...         ...           ...  \n",
       "1977863         0.0         0.0  BENIGN         126        GOOGLE  \n",
       "2266685         0.0         0.0  BENIGN         131    HTTP_PROXY  \n",
       "2624752  26716463.0  24046550.0  BENIGN         131    HTTP_PROXY  \n",
       "166243          0.0         0.0  BENIGN         126        GOOGLE  \n",
       "149907   39770578.0  12712859.0  BENIGN           7          HTTP  \n",
       "\n",
       "[10000 rows x 87 columns]>"
      ]
     },
     "execution_count": 10,
     "metadata": {},
     "output_type": "execute_result"
    }
   ],
   "source": [
    "df.info"
   ]
  },
  {
   "cell_type": "code",
   "execution_count": 13,
   "metadata": {},
   "outputs": [
    {
     "data": {
      "text/plain": [
       "870000"
      ]
     },
     "execution_count": 13,
     "metadata": {},
     "output_type": "execute_result"
    }
   ],
   "source": [
    "df.size"
   ]
  },
  {
   "cell_type": "code",
   "execution_count": 14,
   "metadata": {},
   "outputs": [
    {
     "data": {
      "text/plain": [
       "(10000, 87)"
      ]
     },
     "execution_count": 14,
     "metadata": {},
     "output_type": "execute_result"
    }
   ],
   "source": [
    "df.shape"
   ]
  },
  {
   "cell_type": "code",
   "execution_count": 15,
   "metadata": {},
   "outputs": [
    {
     "name": "stdout",
     "output_type": "stream",
     "text": [
      "         Source.Port  Destination.IP  Destination.Port  Protocol  \\\n",
      "2421228        46506     179.1.4.237               443         6   \n",
      "1272684        60137     179.1.4.210               443         6   \n",
      "790012          3128  192.168.180.16             30324         6   \n",
      "2246520        50093      10.200.7.7              3128         6   \n",
      "442329         49192      10.200.7.9              3128         6   \n",
      "\n",
      "                  Timestamp  Flow.Duration  Total.Fwd.Packets  \\\n",
      "2421228  11/05/201710:01:33       35196160                 58   \n",
      "1272684  27/04/201704:59:17         145054                 12   \n",
      "790012   27/04/201709:53:33         112805                  1   \n",
      "2246520  09/05/201711:32:16        9114881                 17   \n",
      "442329   27/04/201707:57:56         753606                 11   \n",
      "\n",
      "         Total.Backward.Packets  Total.Length.of.Fwd.Packets  \\\n",
      "2421228                      60                        12948   \n",
      "1272684                       9                         3631   \n",
      "790012                        2                            6   \n",
      "2246520                      40                         2324   \n",
      "442329                        9                          679   \n",
      "\n",
      "         Total.Length.of.Bwd.Packets  ...   Fwd.IAT.Mean   Fwd.IAT.Std  \\\n",
      "2421228                       4811.0  ...  616765.982456  3.212417e+06   \n",
      "1272684                       5038.0  ...   13186.727273  2.844636e+04   \n",
      "790012                          12.0  ...       0.000000  0.000000e+00   \n",
      "2246520                      25341.0  ...  569680.062500  2.000249e+06   \n",
      "442329                        4348.0  ...   74596.100000  1.478467e+05   \n",
      "\n",
      "         Fwd.IAT.Max  Fwd.IAT.Min  Bwd.IAT.Total   Bwd.IAT.Mean   Bwd.IAT.Std  \\\n",
      "2421228   23799943.0         16.0     35196031.0  596542.898305  3.157980e+06   \n",
      "1272684      96563.0          0.0       136464.0   17058.000000  2.905592e+04   \n",
      "790012           0.0          0.0            1.0       1.000000  0.000000e+00   \n",
      "2246520    8051297.0          0.0       807795.0   20712.692308  6.820294e+04   \n",
      "442329      462406.0          0.0       753579.0   94197.375000  1.561840e+05   \n",
      "\n",
      "         Bwd.IAT.Max  Bwd.IAT.Min  Fwd.PSH.Flags  \n",
      "2421228   23799850.0         12.0              0  \n",
      "1272684      86810.0          0.0              0  \n",
      "790012           1.0          1.0              0  \n",
      "2246520     369858.0          0.0              0  \n",
      "442329      450558.0        175.0              0  \n",
      "\n",
      "[5 rows x 35 columns]\n"
     ]
    }
   ],
   "source": [
    "# List of columns needed for ML prediction\n",
    "selected_columns = [\n",
    "    'Source.Port', 'Destination.IP', 'Destination.Port', 'Protocol', 'Timestamp',\n",
    "    'Flow.Duration', 'Total.Fwd.Packets', 'Total.Backward.Packets', \n",
    "    'Total.Length.of.Fwd.Packets', 'Total.Length.of.Bwd.Packets', \n",
    "    'Fwd.Packet.Length.Max', 'Fwd.Packet.Length.Min', 'Fwd.Packet.Length.Mean', \n",
    "    'Fwd.Packet.Length.Std', 'Bwd.Packet.Length.Max', 'Bwd.Packet.Length.Min', \n",
    "    'Bwd.Packet.Length.Mean', 'Bwd.Packet.Length.Std', 'Flow.Bytes.s', \n",
    "    'Flow.Packets.s', 'Flow.IAT.Mean', 'Flow.IAT.Std', 'Flow.IAT.Max', \n",
    "    'Flow.IAT.Min', 'Fwd.IAT.Total', 'Fwd.IAT.Mean', 'Fwd.IAT.Std', \n",
    "    'Fwd.IAT.Max', 'Fwd.IAT.Min', 'Bwd.IAT.Total', 'Bwd.IAT.Mean', \n",
    "    'Bwd.IAT.Std', 'Bwd.IAT.Max', 'Bwd.IAT.Min', 'Fwd.PSH.Flags'\n",
    "]\n",
    "\n",
    "# Selecting only the required columns from the dataset\n",
    "dataset_reduced = df[selected_columns]\n",
    "\n",
    "# Verify the reduced dataset\n",
    "print(dataset_reduced.head())"
   ]
  },
  {
   "cell_type": "code",
   "execution_count": 17,
   "metadata": {},
   "outputs": [],
   "source": [
    "df2 = dataset_reduced"
   ]
  },
  {
   "cell_type": "code",
   "execution_count": 18,
   "metadata": {},
   "outputs": [
    {
     "data": {
      "text/plain": [
       "(10000, 35)"
      ]
     },
     "execution_count": 18,
     "metadata": {},
     "output_type": "execute_result"
    }
   ],
   "source": [
    "df2.shape"
   ]
  },
  {
   "cell_type": "code",
   "execution_count": 19,
   "metadata": {},
   "outputs": [],
   "source": [
    "df2.to_csv('updated_dataset.csv', index=False)"
   ]
  },
  {
   "cell_type": "code",
   "execution_count": null,
   "metadata": {},
   "outputs": [],
   "source": []
  }
 ],
 "metadata": {
  "kernelspec": {
   "display_name": "Python 3",
   "language": "python",
   "name": "python3"
  },
  "language_info": {
   "codemirror_mode": {
    "name": "ipython",
    "version": 3
   },
   "file_extension": ".py",
   "mimetype": "text/x-python",
   "name": "python",
   "nbconvert_exporter": "python",
   "pygments_lexer": "ipython3",
   "version": "3.12.4"
  }
 },
 "nbformat": 4,
 "nbformat_minor": 2
}
